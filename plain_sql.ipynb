{
 "cells": [
  {
   "cell_type": "markdown",
   "id": "62e0ab26",
   "metadata": {},
   "source": [
    "### Voor- en nadelen van \"Plain SQL\"-\n",
    "\n",
    " `+` Eenvoudig in gebruik: test je SQL string m.b.v. een SQL tool en copy-paste naar Python\n",
    "- `-` Geen SQL syntax check bij de ontwikkeling --> errors duiken op at runtime\n",
    "- `-` Geen integratie met Python objecten.\n",
    "- `-` Code is niet porteerbaar naar andere databanken: \n",
    "  - `-` Je gebruikt software-bibliotheken die specifiek zijn voor een bepaald database-systeem (= native API)\n",
    "  - `-` SQL-code volgt dialect van een bepaalde database en is dus niet noodzakelijk porteerbaar naar een andere database (vb. `SELECT TOP ...`). "
   ]
  },
  {
   "cell_type": "code",
   "execution_count": 3,
   "id": "2683e877",
   "metadata": {},
   "outputs": [],
   "source": [
    "import pyodbc  \n",
    "\n",
    "conn = pyodbc.connect(r'DRIVER={ODBC Driver 17 for SQL Server};SERVER=localhost\\SQL2025;DATABASE=xtreme;Trusted_Connection=yes;')\n",
    "cursor = conn.cursor()"
   ]
  },
  {
   "cell_type": "markdown",
   "id": "5d6a17bb",
   "metadata": {},
   "source": [
    "**Complexere SELECT** \n",
    "   \n",
    "```sql\n",
    "select top 10 p.ProductID, p.ProductName, \n",
    "sum(od.Quantity*od.UnitPrice) as sales\n",
    "from Product p join OrdersDetail od\n",
    "on p.ProductID=od.ProductID\n",
    "group by p.ProductID, p.ProductName\n",
    "order by sum(od.Quantity*od.UnitPrice) desc;\n",
    "```"
   ]
  },
  {
   "cell_type": "code",
   "execution_count": 5,
   "id": "6f46cc69",
   "metadata": {},
   "outputs": [],
   "source": [
    "stmt =  \"\"\"\n",
    "        select top 10 p.ProductID, p.ProductName, \n",
    "        sum(od.Quantity*od.UnitPrice) as sales\n",
    "        from Product p join OrdersDetail od\n",
    "        on p.ProductID=od.ProductID\n",
    "        group by p.ProductID, p.ProductName\n",
    "        order by sum(od.Quantity*od.UnitPrice) desc;\n",
    "        \"\"\"\n",
    "\n",
    "cursor.execute(stmt)\n",
    "rows = cursor.fetchall()"
   ]
  },
  {
   "cell_type": "markdown",
   "id": "8678231a",
   "metadata": {},
   "source": [
    "**UPDATE** \\\n",
    "Verhoog de prijzen van alle producten van het producttype x met y % (x en y zijn parameters). \n",
    "\n",
    "   ```sql\n",
    "   update Product \n",
    "   set Price = Price * 1.10\n",
    "   where ProductTypeID \n",
    "   in (select ProductTypeID \n",
    "   from Producttype where producttypename='Mountain')\n",
    "   ``` "
   ]
  },
  {
   "cell_type": "code",
   "execution_count": null,
   "id": "7e372cd1",
   "metadata": {},
   "outputs": [],
   "source": [
    "stmt = \"\"\"\n",
    "    update Product \n",
    "    set Price = Price * (1 + ?/100.0)\n",
    "    where ProductTypeID \n",
    "    in (select ProductTypeID \n",
    "    from Producttype where producttypename=?);\n",
    "    \"\"\"\n",
    "cursor.execute(stmt, (10, 'Mountain') )\n",
    "\n",
    "conn.rollback()\n",
    "conn.commit()"
   ]
  },
  {
   "cell_type": "markdown",
   "id": "f035dd6c",
   "metadata": {},
   "source": [
    "**INSERT**  \n",
    "    ```sql\n",
    "   insert into Courier (CourierID, CourierName,Website)\n",
    "   values (11,'bpost','www.bpost.be')\n",
    "   ```"
   ]
  },
  {
   "cell_type": "code",
   "execution_count": null,
   "id": "279fadbf",
   "metadata": {},
   "outputs": [],
   "source": [
    "stmt = \"insert into Courier (CourierID, CourierName,Website) values (11,'bpost','www.bpost.be');\"\n",
    "cursor.execute(stmt )\n",
    "\n",
    "conn.rollback()\n",
    "conn.commit()"
   ]
  },
  {
   "cell_type": "markdown",
   "id": "05f9ccb1",
   "metadata": {},
   "source": [
    "**DELETE**\n",
    "   ```sql\n",
    "   delete from Courier where CourierName = 'bpost'\n",
    "    ```"
   ]
  },
  {
   "cell_type": "code",
   "execution_count": null,
   "id": "bda8b65b",
   "metadata": {},
   "outputs": [],
   "source": [
    "stmt = \"delete from Courier where CourierName = 'bpost';\"\n",
    "cursor.execute(stmt )\n",
    "\n",
    "conn.rollback()\n",
    "conn.commit()"
   ]
  },
  {
   "cell_type": "code",
   "execution_count": null,
   "id": "f008a814",
   "metadata": {},
   "outputs": [],
   "source": [
    "conn.close()"
   ]
  },
  {
   "cell_type": "markdown",
   "id": "11e27fb4",
   "metadata": {},
   "source": [
    "**Stored procedure**\n",
    "\n",
    "```sql\n",
    "select top 5 productid, productname, unitsinstock\n",
    "from product\n",
    "order by unitsinstock desc;\n",
    "```"
   ]
  },
  {
   "cell_type": "code",
   "execution_count": null,
   "id": "42d3bd69",
   "metadata": {},
   "outputs": [],
   "source": [
    "'''\n",
    "In database xtreme: \n",
    "    create or alter procedure ProductsInStock\n",
    "    as\n",
    "        select top 5 productid, productname, unitsinstock from product order by unitsinstock desc;\n",
    "'''\n",
    "\n",
    "stmt = \"exec ProductsInStock;\"\n",
    "cursor.execute(stmt)\n",
    "rows = cursor.fetchall()"
   ]
  }
 ],
 "metadata": {
  "kernelspec": {
   "display_name": "Python 3",
   "language": "python",
   "name": "python3"
  },
  "language_info": {
   "codemirror_mode": {
    "name": "ipython",
    "version": 3
   },
   "file_extension": ".py",
   "mimetype": "text/x-python",
   "name": "python",
   "nbconvert_exporter": "python",
   "pygments_lexer": "ipython3",
   "version": "3.13.1"
  }
 },
 "nbformat": 4,
 "nbformat_minor": 5
}
