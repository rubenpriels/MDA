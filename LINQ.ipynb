{
 "cells": [
  {
   "cell_type": "markdown",
   "id": "62e0ab26",
   "metadata": {},
   "source": [
    "### Voor- en nadelen van LINQ\n",
    "- `+` SQL syntax check door Python --> fouten ontdekt bij het ontwikkelen\n",
    "- `+` Porteerbaar tussen databanksystemen\n",
    "- `-` Geen integratie met Python-objecten.\n",
    "- `-` Extra syntax moet aangeleerd worden. "
   ]
  },
  {
   "cell_type": "code",
   "execution_count": 7,
   "id": "2683e877",
   "metadata": {},
   "outputs": [],
   "source": [
    "from sqlalchemy import create_engine  \n",
    "engine = create_engine('mssql+pyodbc://localhost\\\\SQL2025/xtreme?trusted_connection=yes&driver=ODBC+Driver+17+for+SQL+Server')\n",
    "\n",
    "conn = engine.connect() "
   ]
  },
  {
   "cell_type": "code",
   "execution_count": 8,
   "id": "355c3001",
   "metadata": {},
   "outputs": [],
   "source": [
    "# Setting up MetaData with Table Objects\n",
    "from sqlalchemy import MetaData, Table, Column, Integer, String, Float, Numeric\n",
    "metadata = MetaData()   # This object is essentially a facade around a Python dictionary \n",
    "                        # that stores a series \n",
    "                        # of Table objects keyed to their string name. \n",
    "\n",
    "# Option 1: explicit Table objects\n",
    "Product = Table('Product', metadata, \n",
    "               Column('ProductID', Integer, primary_key=True),\n",
    "               Column('ProductName', String),\n",
    "               Column('Color', String),\n",
    "               Column('Sizes', String),\n",
    "               Column('M_F', String),\n",
    "               Column('Price', Numeric(8,2)),\n",
    "               Column('ProductTypeID', Integer),\n",
    "               Column('ProductClassID', Integer),\n",
    "               Column('SupplierID', Integer),\n",
    "               Column('ReorderLevel', Integer),\n",
    "               Column('UnitsInStock', Integer))          \n",
    "\n",
    "# Option 2: reflecting tables: generate Table objects automatically from database     \n",
    "OrdersDetail = Table('OrdersDetail', metadata, autoload_with=engine)\n",
    "ProductType = Table('ProductType', metadata, autoload_with=engine)\n",
    "Courier = Table('Courier', metadata, autoload_with=engine)  "
   ]
  },
  {
   "cell_type": "markdown",
   "id": "4533e49f",
   "metadata": {},
   "source": [
    "### Select\n",
    "\n",
    "```sql\n",
    "select top 5 productid, productname, unitsinstock\n",
    "from product\n",
    "order by unitsinstock desc;\n",
    "```"
   ]
  },
  {
   "cell_type": "code",
   "execution_count": null,
   "id": "74ca3f94",
   "metadata": {},
   "outputs": [],
   "source": [
    "from sqlalchemy import select\n",
    "stmt = select(Product.c.ProductID,Product.c.ProductName, Product.c.UnitsInStock) \\\n",
    "       .order_by(Product.c.UnitsInStock.desc()) \\\n",
    "       .limit(5)\n",
    "\n",
    "rows = conn.execute(stmt)"
   ]
  },
  {
   "cell_type": "markdown",
   "id": "5d6a17bb",
   "metadata": {},
   "source": [
    "**Complexere SELECT** \n",
    "   \n",
    "```sql\n",
    "select top 10 p.ProductID, p.ProductName, \n",
    "sum(od.Quantity*od.UnitPrice) as sales\n",
    "from Product p join OrdersDetail od\n",
    "on p.ProductID=od.ProductID\n",
    "group by p.ProductID, p.ProductName\n",
    "order by sum(od.Quantity*od.UnitPrice) desc;\n",
    "```"
   ]
  },
  {
   "cell_type": "code",
   "execution_count": null,
   "id": "6f46cc69",
   "metadata": {},
   "outputs": [],
   "source": [
    "from sqlalchemy import select, func\n",
    "\n",
    "stmt = select(Product.c.ProductID,Product.c.ProductName,func.sum(OrdersDetail.c.Quantity * OrdersDetail.c.UnitPrice)) \\\n",
    "       .select_from(Product) \\\n",
    "       .join(OrdersDetail, Product.c.ProductID == OrdersDetail.c.ProductID) \\\n",
    "       .group_by(Product.c.ProductID, Product.c.ProductName) \\\n",
    "       .order_by(func.sum(OrdersDetail.c.Quantity * OrdersDetail.c.UnitPrice).desc()) \\\n",
    "       .limit(10)\n",
    "\n",
    "print(stmt)\n",
    "\n",
    "rows = conn.execute(stmt)"
   ]
  },
  {
   "cell_type": "markdown",
   "id": "8678231a",
   "metadata": {},
   "source": [
    "**UPDATE** \\\n",
    "Verhoog de prijzen van alle producten van het producttype x met y % (x en y zijn parameters). \n",
    "\n",
    "   ```sql\n",
    "   update Product \n",
    "   set Price = Price * 1.10\n",
    "   where ProductTypeID \n",
    "   in (select ProductTypeID \n",
    "   from Producttype where producttypename='Mountain')\n",
    "   ``` "
   ]
  },
  {
   "cell_type": "code",
   "execution_count": null,
   "id": "7e372cd1",
   "metadata": {},
   "outputs": [],
   "source": [
    "from sqlalchemy import update,bindparam\n",
    "\n",
    "subq = select(ProductType.c.ProductTypeID).where(ProductType.c.ProductTypeName == bindparam(\"type\"))\n",
    "\n",
    "stmt = (update(Product).values(Price=Product.c.Price * (1 + bindparam(\"pct\"))).where(Product.c.ProductTypeID.in_(subq)))\n",
    "print(stmt) # string representation of the statement\n",
    "conn.execute(stmt,{\"pct\":0.1, \"type\":\"Mountain\"}) \n",
    "\n",
    "conn.rollback()\n",
    "conn.commit()"
   ]
  },
  {
   "cell_type": "markdown",
   "id": "f035dd6c",
   "metadata": {},
   "source": [
    "**INSERT**  \n",
    "    ```sql\n",
    "   insert into Courier (CourierID, CourierName,Website)\n",
    "   values (11,'bpost','www.bpost.be')\n",
    "   ```"
   ]
  },
  {
   "cell_type": "code",
   "execution_count": null,
   "id": "279fadbf",
   "metadata": {},
   "outputs": [],
   "source": [
    "from sqlalchemy import insert\n",
    "stmt = insert(Courier).values(CourierID=11,CourierName='bpost', Website='www.bpost.be')\n",
    "conn.execute(stmt)\n",
    "\n",
    "conn.rollback()\n",
    "conn.commit()"
   ]
  },
  {
   "cell_type": "markdown",
   "id": "05f9ccb1",
   "metadata": {},
   "source": [
    "**DELETE**\n",
    "   ```sql\n",
    "   delete from Courier where CourierName = 'bpost'\n",
    "    ```"
   ]
  },
  {
   "cell_type": "code",
   "execution_count": null,
   "id": "bda8b65b",
   "metadata": {},
   "outputs": [],
   "source": [
    "from sqlalchemy import delete\n",
    "stmt = delete(Courier).where(Courier.c.CourierName == 'bpost')\n",
    "conn.execute(stmt)\n",
    "\n",
    "conn.rollback()\n",
    "conn.commit()"
   ]
  },
  {
   "cell_type": "code",
   "execution_count": null,
   "id": "f008a814",
   "metadata": {},
   "outputs": [],
   "source": [
    "conn.close()"
   ]
  }
 ],
 "metadata": {
  "kernelspec": {
   "display_name": "Python 3",
   "language": "python",
   "name": "python3"
  },
  "language_info": {
   "codemirror_mode": {
    "name": "ipython",
    "version": 3
   },
   "file_extension": ".py",
   "mimetype": "text/x-python",
   "name": "python",
   "nbconvert_exporter": "python",
   "pygments_lexer": "ipython3",
   "version": "3.13.1"
  }
 },
 "nbformat": 4,
 "nbformat_minor": 5
}
