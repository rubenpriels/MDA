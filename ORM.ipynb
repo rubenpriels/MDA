{
 "cells": [
  {
   "cell_type": "markdown",
   "id": "62e0ab26",
   "metadata": {},
   "source": [
    "### Voor- en nadelen van ORM\n",
    "- `+` SQL syntax check door Python --> fouten ontdekt bij het ontwikkelen\n",
    "- `+` Porteerbaar tussen databanksystemen\n",
    "- `+` Integratie met Python-objecten\n",
    "- `-` Extra syntax moet aangeleerd worden\n",
    "- `-` Risico op trage code (vooral bij Optie 2: rechtstreeks gebruik van objecten) omdat men niet meer stilstaat bij gegenereerde SQL-commando's: \n",
    "  - SELECT *: onnodig veel kolommen ophalen\n",
    "  - teveel \"round-trips\" naar de database, door bijv. in een lus updates uit te voeren i.p.v. in één update-statement"
   ]
  },
  {
   "cell_type": "code",
   "execution_count": 1,
   "id": "2683e877",
   "metadata": {},
   "outputs": [],
   "source": [
    "from sqlalchemy import create_engine  \n",
    "from sqlalchemy.orm import Session\n",
    "\n",
    "engine = create_engine('mssql+pyodbc://localhost\\\\SQL2025/xtreme?trusted_connection=yes&driver=ODBC+Driver+17+for+SQL+Server')\n",
    "conn = engine.connect() \n",
    "session = Session(engine)"
   ]
  },
  {
   "cell_type": "code",
   "execution_count": 2,
   "id": "355c3001",
   "metadata": {},
   "outputs": [],
   "source": [
    "from sqlalchemy import String, select\n",
    "from sqlalchemy.orm import DeclarativeBase, Mapped, mapped_column\n",
    "\n",
    "from decimal import Decimal\n",
    "from typing_extensions import Annotated\n",
    "from sqlalchemy import Numeric\n",
    "from sqlalchemy.orm import registry\n",
    "num_8_2 = Annotated[Decimal, 8]\n",
    "\n",
    "class Base(DeclarativeBase):\n",
    "    registry = registry(\n",
    "        type_annotation_map={\n",
    "            num_8_2: Numeric(6, 2)\n",
    "        }\n",
    "    )\n",
    "\n",
    "# Option 1: explicit Table objects\n",
    "       \n",
    "class Product(Base):\n",
    "    __tablename__ = \"Product\"\n",
    "    ProductID: Mapped[int] = mapped_column(primary_key=True)\n",
    "    ProductName: Mapped[str]\n",
    "    Color: Mapped[str]\n",
    "    Sizes: Mapped[str]\n",
    "    M_F: Mapped[str]\n",
    "    Price: Mapped[float]\n",
    "    ProductTypeID: Mapped[int]\n",
    "    ProductClassID: Mapped[int]\n",
    "    SupplierID: Mapped[int]\n",
    "    ReorderLevel: Mapped[int]\n",
    "    UnitsInStock: Mapped[int]\n",
    "\n",
    "# Option 2: reflecting tables: generate Table objects automatically from database   \n",
    "\n",
    "Base.metadata.reflect(engine)   # get metadata from database\n",
    "\n",
    "class OrdersDetail(Base):  # each table is a subclass from the Base table\n",
    "    __table__ = Base.metadata.tables['OrdersDetail']\n",
    "\n",
    "class ProductType(Base):  \n",
    "    __table__ = Base.metadata.tables['ProductType']\n",
    "  \n",
    "class Courier(Base):\n",
    "    __table__ = Base.metadata.tables['Courier']\n",
    "\n",
    "\n"
   ]
  },
  {
   "cell_type": "markdown",
   "id": "4533e49f",
   "metadata": {},
   "source": [
    "### Select\n",
    "\n",
    "```sql\n",
    "select top 5 productid, productname, unitsinstock\n",
    "from product\n",
    "order by unitsinstock desc;\n",
    "```"
   ]
  },
  {
   "cell_type": "code",
   "execution_count": null,
   "id": "74ca3f94",
   "metadata": {},
   "outputs": [],
   "source": [
    "stmt = select(Product.ProductID,Product.ProductName, (Product.UnitsInStock).label('Stock')) \\\n",
    "        .order_by(Product.UnitsInStock.desc()) \\\n",
    "        .limit(5)\n",
    "\n",
    "products = session.execute(stmt)"
   ]
  },
  {
   "cell_type": "markdown",
   "id": "5d6a17bb",
   "metadata": {},
   "source": [
    "**Complexere SELECT** \n",
    "   \n",
    "```sql\n",
    "select top 10 p.ProductID, p.ProductName, \n",
    "sum(od.Quantity*od.UnitPrice) as sales\n",
    "from Product p join OrdersDetail od\n",
    "on p.ProductID=od.ProductID\n",
    "group by p.ProductID, p.ProductName\n",
    "order by sum(od.Quantity*od.UnitPrice) desc;\n",
    "```"
   ]
  },
  {
   "cell_type": "code",
   "execution_count": null,
   "id": "6f46cc69",
   "metadata": {},
   "outputs": [],
   "source": [
    "from sqlalchemy import func\n",
    "\n",
    "stmt = select(Product.ProductID,Product.ProductName,func.sum(OrdersDetail.Quantity * OrdersDetail.UnitPrice).label('Sales')) \\\n",
    "        .select_from(Product) \\\n",
    "        .join(OrdersDetail, Product.ProductID == OrdersDetail.ProductID) \\\n",
    "        .group_by(Product.ProductID, Product.ProductName) \\\n",
    "        .order_by(func.sum(OrdersDetail.Quantity * OrdersDetail.UnitPrice).desc()) \\\n",
    "        .limit(10)\n",
    "\n",
    "rows = session.execute(stmt)"
   ]
  },
  {
   "cell_type": "markdown",
   "id": "8678231a",
   "metadata": {},
   "source": [
    "**UPDATE** \\\n",
    "Verhoog de prijzen van alle producten van het producttype x met y % (x en y zijn parameters). \n",
    "\n",
    "   ```sql\n",
    "   update Product \n",
    "   set Price = Price * 1.10\n",
    "   where ProductTypeID \n",
    "   in (select ProductTypeID \n",
    "   from Producttype where producttypename='Mountain')\n",
    "   ``` "
   ]
  },
  {
   "cell_type": "code",
   "execution_count": null,
   "id": "7e372cd1",
   "metadata": {},
   "outputs": [],
   "source": [
    "from sqlalchemy import update, bindparam\n",
    "stmt = update(Product).values(Price=Product.Price * (1 + bindparam(\"pct\"))).where(Product.ProductTypeID.in_(select(ProductType.ProductTypeID).where(ProductType.ProductTypeName == bindparam(\"type\"))))\n",
    "print(stmt) # stringify the statement\n",
    "session.execute(stmt,{\"pct\":0.1, \"type\":\"Mountain\"}) \n",
    "\n",
    "conn.rollback()\n",
    "conn.commit()\n",
    "\n",
    "\n",
    "\n",
    "# Option 2: with ORM objects\n",
    "pct = 0.1\n",
    "type = 'Mountain'\n",
    "\n",
    "stmt = select(Product).where(Product.ProductTypeID.in_(select(ProductType.ProductTypeID).where(ProductType.ProductTypeName == type))) \n",
    "print(stmt)  # stringify the statement\n",
    "products = session.scalars(stmt)  # with scalars() we receive ORM entities directly\n",
    "\n",
    "for product in products:\n",
    "    product.Price = product.Price * (1 + pct)\n",
    "\n",
    "conn.rollback()\n",
    "conn.commit()"
   ]
  },
  {
   "cell_type": "markdown",
   "id": "f035dd6c",
   "metadata": {},
   "source": [
    "**INSERT**  \n",
    "    ```sql\n",
    "   insert into Courier (CourierID, CourierName,Website)\n",
    "   values (11,'bpost','www.bpost.be')\n",
    "   ```"
   ]
  },
  {
   "cell_type": "code",
   "execution_count": null,
   "id": "279fadbf",
   "metadata": {},
   "outputs": [],
   "source": [
    "bpost = Courier(CourierID=11, CourierName='bpost', Website='www.bpost.be')\n",
    "session.add(bpost)\n",
    "\n",
    "conn.rollback()\n",
    "conn.commit()"
   ]
  },
  {
   "cell_type": "markdown",
   "id": "05f9ccb1",
   "metadata": {},
   "source": [
    "**DELETE**\n",
    "   ```sql\n",
    "   delete from Courier where CourierName = 'bpost'\n",
    "    ```"
   ]
  },
  {
   "cell_type": "code",
   "execution_count": null,
   "id": "bda8b65b",
   "metadata": {},
   "outputs": [],
   "source": [
    "stmt = select(Courier).where(Courier.CourierName == 'bpost')\n",
    "result = session.scalars(stmt).all()  # with scalars() we receive ORM entities directly,  with all() we get all results as a list\n",
    "if len(result) > 0:  \n",
    "    print('Courier bpost exists')\n",
    "    bpost = result[0]   # get first courier with name bpost\n",
    "    session.delete(bpost)\n",
    "    print('Courier bpost deleted')\n",
    "else:\n",
    "    print('Courier bpost does not exist')\n",
    "\n",
    "conn.rollback()\n",
    "conn.commit()"
   ]
  },
  {
   "cell_type": "code",
   "execution_count": null,
   "id": "f008a814",
   "metadata": {},
   "outputs": [],
   "source": [
    "conn.close()"
   ]
  }
 ],
 "metadata": {
  "kernelspec": {
   "display_name": "Python 3",
   "language": "python",
   "name": "python3"
  },
  "language_info": {
   "codemirror_mode": {
    "name": "ipython",
    "version": 3
   },
   "file_extension": ".py",
   "mimetype": "text/x-python",
   "name": "python",
   "nbconvert_exporter": "python",
   "pygments_lexer": "ipython3",
   "version": "3.13.1"
  }
 },
 "nbformat": 4,
 "nbformat_minor": 5
}
